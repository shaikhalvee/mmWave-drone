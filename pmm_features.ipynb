{
 "cells": [
  {
   "cell_type": "code",
   "id": "initial_id",
   "metadata": {
    "collapsed": true,
    "ExecuteTime": {
     "end_time": "2024-10-07T23:09:43.367619Z",
     "start_time": "2024-10-07T23:09:43.357768Z"
    }
   },
   "source": [
    "# PMM Feature Extraction for UAV using mmWave Radar Data\n",
    "# This Python script will load binary data files from the mmWave radar,\n",
    "# perform spectral analysis, and identify Periodic Micro Motions (PMM) features.\n",
    "\n",
    "import numpy as np\n",
    "import matplotlib.pyplot as plt\n",
    "from scipy.signal import stft\n",
    "from scipy.signal.windows import hamming\n",
    "\n",
    "# Function to load binary data\n",
    "def load_binary_data(filename):\n",
    "    with open(filename, 'rb') as f:\n",
    "        data = np.fromfile(f, dtype=np.int16)\n",
    "    return data\n",
    "\n",
    "# Process data in smaller chunks to avoid memory issues\n",
    "files = ['data/drone_steady_0/master_0000_data.bin', \n",
    "         'data/drone_steady_0/slave1_0000_data.bin', \n",
    "         'data/drone_steady_0/slave2_0000_data.bin', \n",
    "         'data/drone_steady_0/slave3_0000_data.bin']\n",
    "\n",
    "# with open(files[0], 'rb') as f:\n",
    "#     data = np.fromfile(f, dtype=np.int16, count=4)\n",
    "#     print(data.size)\n"
   ],
   "outputs": [],
   "execution_count": 12
  },
  {
   "metadata": {
    "ExecuteTime": {
     "end_time": "2024-10-07T23:09:45.266306Z",
     "start_time": "2024-10-07T23:09:45.262707Z"
    }
   },
   "cell_type": "code",
   "source": [
    "chunk_size = int(1e6)  # Number of samples to process at a time\n",
    "\n",
    "# Parameters\n",
    "adc_samples = 256  # Number of samples per chirp\n",
    "nchirp_loops = 64  # Number of chirps per frame\n",
    "sample_freq = 8e6  # Sampling frequency in Hz"
   ],
   "id": "c718f70352e1e1f1",
   "outputs": [],
   "execution_count": 13
  },
  {
   "metadata": {
    "ExecuteTime": {
     "end_time": "2024-10-07T23:09:56.281385Z",
     "start_time": "2024-10-07T23:09:46.415980Z"
    }
   },
   "cell_type": "code",
   "source": [
    "# Initialize empty list for STFT results\n",
    "stft_results = []\n",
    "radar_data_frames = []\n",
    "\n",
    "# Loop through each file and process data in chunks\n",
    "for filename in files:  # Use `filename` instead of `file` to avoid overwriting\n",
    "    with open(filename, 'rb') as file_handle:\n",
    "        while True:\n",
    "            # Read the data chunk from file using filename directly\n",
    "            data_chunk = np.fromfile(file_handle, dtype=np.int16, count=chunk_size)\n",
    "            if len(data_chunk) == 0:\n",
    "                break\n",
    "\n",
    "            # Reshape the chunk into chirps and frames if possible\n",
    "            num_chirps = len(data_chunk) // adc_samples\n",
    "            radar_data_chunk = data_chunk[:num_chirps * adc_samples].reshape(adc_samples, num_chirps)\n",
    "            radar_data_frames.append(radar_data_chunk)\n",
    "\n",
    "            # FFT parameters\n",
    "            NFFT = 512  # Number of FFT points\n",
    "            window = hamming(adc_samples)\n",
    "            overlap = adc_samples // 2\n",
    "\n",
    "            # Doppler analysis using STFT to extract PMM features\n",
    "            f_vals, t_vals, Zxx = stft(\n",
    "                radar_data_chunk, fs=sample_freq, window=window, \n",
    "                nperseg=adc_samples, noverlap=overlap, nfft=NFFT, boundary=None\n",
    "            )\n",
    "\n",
    "            # Append STFT results\n",
    "            stft_results.append(np.abs(Zxx))\n",
    "\n",
    "\n",
    "# Concatenate all STFT results\n",
    "stft_results = np.concatenate(stft_results, axis=1)"
   ],
   "id": "113582a452da0822",
   "outputs": [
    {
     "ename": "MemoryError",
     "evalue": "Unable to allocate 60.1 MiB for an array with shape (256, 30, 513) and data type complex128",
     "output_type": "error",
     "traceback": [
      "\u001B[1;31m---------------------------------------------------------------------------\u001B[0m",
      "\u001B[1;31mMemoryError\u001B[0m                               Traceback (most recent call last)",
      "Cell \u001B[1;32mIn[14], line 25\u001B[0m\n\u001B[0;32m     22\u001B[0m overlap \u001B[38;5;241m=\u001B[39m adc_samples \u001B[38;5;241m/\u001B[39m\u001B[38;5;241m/\u001B[39m \u001B[38;5;241m2\u001B[39m\n\u001B[0;32m     24\u001B[0m \u001B[38;5;66;03m# Doppler analysis using STFT to extract PMM features\u001B[39;00m\n\u001B[1;32m---> 25\u001B[0m f_vals, t_vals, Zxx \u001B[38;5;241m=\u001B[39m \u001B[43mstft\u001B[49m\u001B[43m(\u001B[49m\n\u001B[0;32m     26\u001B[0m \u001B[43m    \u001B[49m\u001B[43mradar_data_chunk\u001B[49m\u001B[43m,\u001B[49m\u001B[43m \u001B[49m\u001B[43mfs\u001B[49m\u001B[38;5;241;43m=\u001B[39;49m\u001B[43msample_freq\u001B[49m\u001B[43m,\u001B[49m\u001B[43m \u001B[49m\u001B[43mwindow\u001B[49m\u001B[38;5;241;43m=\u001B[39;49m\u001B[43mwindow\u001B[49m\u001B[43m,\u001B[49m\u001B[43m \u001B[49m\n\u001B[0;32m     27\u001B[0m \u001B[43m    \u001B[49m\u001B[43mnperseg\u001B[49m\u001B[38;5;241;43m=\u001B[39;49m\u001B[43madc_samples\u001B[49m\u001B[43m,\u001B[49m\u001B[43m \u001B[49m\u001B[43mnoverlap\u001B[49m\u001B[38;5;241;43m=\u001B[39;49m\u001B[43moverlap\u001B[49m\u001B[43m,\u001B[49m\u001B[43m \u001B[49m\u001B[43mnfft\u001B[49m\u001B[38;5;241;43m=\u001B[39;49m\u001B[43mNFFT\u001B[49m\u001B[43m,\u001B[49m\u001B[43m \u001B[49m\u001B[43mboundary\u001B[49m\u001B[38;5;241;43m=\u001B[39;49m\u001B[38;5;28;43;01mNone\u001B[39;49;00m\n\u001B[0;32m     28\u001B[0m \u001B[43m\u001B[49m\u001B[43m)\u001B[49m\n\u001B[0;32m     30\u001B[0m \u001B[38;5;66;03m# Append STFT results\u001B[39;00m\n\u001B[0;32m     31\u001B[0m stft_results\u001B[38;5;241m.\u001B[39mappend(np\u001B[38;5;241m.\u001B[39mabs(Zxx))\n",
      "File \u001B[1;32mE:\\Documents\\Jetbrains\\Pycharm\\mmWaveTest\\venv\\Lib\\site-packages\\scipy\\signal\\_spectral_py.py:1240\u001B[0m, in \u001B[0;36mstft\u001B[1;34m(x, fs, window, nperseg, noverlap, nfft, detrend, return_onesided, boundary, padded, axis, scaling)\u001B[0m\n\u001B[0;32m   1237\u001B[0m \u001B[38;5;28;01melif\u001B[39;00m scaling \u001B[38;5;241m!=\u001B[39m \u001B[38;5;124m'\u001B[39m\u001B[38;5;124mspectrum\u001B[39m\u001B[38;5;124m'\u001B[39m:\n\u001B[0;32m   1238\u001B[0m     \u001B[38;5;28;01mraise\u001B[39;00m \u001B[38;5;167;01mValueError\u001B[39;00m(\u001B[38;5;124mf\u001B[39m\u001B[38;5;124m\"\u001B[39m\u001B[38;5;124mParameter \u001B[39m\u001B[38;5;132;01m{\u001B[39;00mscaling\u001B[38;5;132;01m=}\u001B[39;00m\u001B[38;5;124m not in [\u001B[39m\u001B[38;5;124m'\u001B[39m\u001B[38;5;124mspectrum\u001B[39m\u001B[38;5;124m'\u001B[39m\u001B[38;5;124m, \u001B[39m\u001B[38;5;124m'\u001B[39m\u001B[38;5;124mpsd\u001B[39m\u001B[38;5;124m'\u001B[39m\u001B[38;5;124m]!\u001B[39m\u001B[38;5;124m\"\u001B[39m)\n\u001B[1;32m-> 1240\u001B[0m freqs, time, Zxx \u001B[38;5;241m=\u001B[39m \u001B[43m_spectral_helper\u001B[49m\u001B[43m(\u001B[49m\u001B[43mx\u001B[49m\u001B[43m,\u001B[49m\u001B[43m \u001B[49m\u001B[43mx\u001B[49m\u001B[43m,\u001B[49m\u001B[43m \u001B[49m\u001B[43mfs\u001B[49m\u001B[43m,\u001B[49m\u001B[43m \u001B[49m\u001B[43mwindow\u001B[49m\u001B[43m,\u001B[49m\u001B[43m \u001B[49m\u001B[43mnperseg\u001B[49m\u001B[43m,\u001B[49m\u001B[43m \u001B[49m\u001B[43mnoverlap\u001B[49m\u001B[43m,\u001B[49m\n\u001B[0;32m   1241\u001B[0m \u001B[43m                                    \u001B[49m\u001B[43mnfft\u001B[49m\u001B[43m,\u001B[49m\u001B[43m \u001B[49m\u001B[43mdetrend\u001B[49m\u001B[43m,\u001B[49m\u001B[43m \u001B[49m\u001B[43mreturn_onesided\u001B[49m\u001B[43m,\u001B[49m\n\u001B[0;32m   1242\u001B[0m \u001B[43m                                    \u001B[49m\u001B[43mscaling\u001B[49m\u001B[38;5;241;43m=\u001B[39;49m\u001B[43mscaling\u001B[49m\u001B[43m,\u001B[49m\u001B[43m \u001B[49m\u001B[43maxis\u001B[49m\u001B[38;5;241;43m=\u001B[39;49m\u001B[43maxis\u001B[49m\u001B[43m,\u001B[49m\n\u001B[0;32m   1243\u001B[0m \u001B[43m                                    \u001B[49m\u001B[43mmode\u001B[49m\u001B[38;5;241;43m=\u001B[39;49m\u001B[38;5;124;43m'\u001B[39;49m\u001B[38;5;124;43mstft\u001B[39;49m\u001B[38;5;124;43m'\u001B[39;49m\u001B[43m,\u001B[49m\u001B[43m \u001B[49m\u001B[43mboundary\u001B[49m\u001B[38;5;241;43m=\u001B[39;49m\u001B[43mboundary\u001B[49m\u001B[43m,\u001B[49m\n\u001B[0;32m   1244\u001B[0m \u001B[43m                                    \u001B[49m\u001B[43mpadded\u001B[49m\u001B[38;5;241;43m=\u001B[39;49m\u001B[43mpadded\u001B[49m\u001B[43m)\u001B[49m\n\u001B[0;32m   1246\u001B[0m \u001B[38;5;28;01mreturn\u001B[39;00m freqs, time, Zxx\n",
      "File \u001B[1;32mE:\\Documents\\Jetbrains\\Pycharm\\mmWaveTest\\venv\\Lib\\site-packages\\scipy\\signal\\_spectral_py.py:1928\u001B[0m, in \u001B[0;36m_spectral_helper\u001B[1;34m(x, y, fs, window, nperseg, noverlap, nfft, detrend, return_onesided, scaling, axis, mode, boundary, padded)\u001B[0m\n\u001B[0;32m   1925\u001B[0m     freqs \u001B[38;5;241m=\u001B[39m sp_fft\u001B[38;5;241m.\u001B[39mrfftfreq(nfft, \u001B[38;5;241m1\u001B[39m\u001B[38;5;241m/\u001B[39mfs)\n\u001B[0;32m   1927\u001B[0m \u001B[38;5;66;03m# Perform the windowed FFTs\u001B[39;00m\n\u001B[1;32m-> 1928\u001B[0m result \u001B[38;5;241m=\u001B[39m \u001B[43m_fft_helper\u001B[49m\u001B[43m(\u001B[49m\u001B[43mx\u001B[49m\u001B[43m,\u001B[49m\u001B[43m \u001B[49m\u001B[43mwin\u001B[49m\u001B[43m,\u001B[49m\u001B[43m \u001B[49m\u001B[43mdetrend_func\u001B[49m\u001B[43m,\u001B[49m\u001B[43m \u001B[49m\u001B[43mnperseg\u001B[49m\u001B[43m,\u001B[49m\u001B[43m \u001B[49m\u001B[43mnoverlap\u001B[49m\u001B[43m,\u001B[49m\u001B[43m \u001B[49m\u001B[43mnfft\u001B[49m\u001B[43m,\u001B[49m\u001B[43m \u001B[49m\u001B[43msides\u001B[49m\u001B[43m)\u001B[49m\n\u001B[0;32m   1930\u001B[0m \u001B[38;5;28;01mif\u001B[39;00m \u001B[38;5;129;01mnot\u001B[39;00m same_data:\n\u001B[0;32m   1931\u001B[0m     \u001B[38;5;66;03m# All the same operations on the y data\u001B[39;00m\n\u001B[0;32m   1932\u001B[0m     result_y \u001B[38;5;241m=\u001B[39m _fft_helper(y, win, detrend_func, nperseg, noverlap, nfft,\n\u001B[0;32m   1933\u001B[0m                            sides)\n",
      "File \u001B[1;32mE:\\Documents\\Jetbrains\\Pycharm\\mmWaveTest\\venv\\Lib\\site-packages\\scipy\\signal\\_spectral_py.py:2012\u001B[0m, in \u001B[0;36m_fft_helper\u001B[1;34m(x, win, detrend_func, nperseg, noverlap, nfft, sides)\u001B[0m\n\u001B[0;32m   2010\u001B[0m     result \u001B[38;5;241m=\u001B[39m result\u001B[38;5;241m.\u001B[39mreal\n\u001B[0;32m   2011\u001B[0m     func \u001B[38;5;241m=\u001B[39m sp_fft\u001B[38;5;241m.\u001B[39mrfft\n\u001B[1;32m-> 2012\u001B[0m result \u001B[38;5;241m=\u001B[39m \u001B[43mfunc\u001B[49m\u001B[43m(\u001B[49m\u001B[43mresult\u001B[49m\u001B[43m,\u001B[49m\u001B[43m \u001B[49m\u001B[43mn\u001B[49m\u001B[38;5;241;43m=\u001B[39;49m\u001B[43mnfft\u001B[49m\u001B[43m)\u001B[49m\n\u001B[0;32m   2014\u001B[0m \u001B[38;5;28;01mreturn\u001B[39;00m result\n",
      "File \u001B[1;32mE:\\Documents\\Jetbrains\\Pycharm\\mmWaveTest\\venv\\Lib\\site-packages\\scipy\\fft\\_backend.py:28\u001B[0m, in \u001B[0;36m_ScipyBackend.__ua_function__\u001B[1;34m(method, args, kwargs)\u001B[0m\n\u001B[0;32m     26\u001B[0m \u001B[38;5;28;01mif\u001B[39;00m fn \u001B[38;5;129;01mis\u001B[39;00m \u001B[38;5;28;01mNone\u001B[39;00m:\n\u001B[0;32m     27\u001B[0m     \u001B[38;5;28;01mreturn\u001B[39;00m \u001B[38;5;28mNotImplemented\u001B[39m\n\u001B[1;32m---> 28\u001B[0m \u001B[38;5;28;01mreturn\u001B[39;00m \u001B[43mfn\u001B[49m\u001B[43m(\u001B[49m\u001B[38;5;241;43m*\u001B[39;49m\u001B[43margs\u001B[49m\u001B[43m,\u001B[49m\u001B[43m \u001B[49m\u001B[38;5;241;43m*\u001B[39;49m\u001B[38;5;241;43m*\u001B[39;49m\u001B[43mkwargs\u001B[49m\u001B[43m)\u001B[49m\n",
      "File \u001B[1;32mE:\\Documents\\Jetbrains\\Pycharm\\mmWaveTest\\venv\\Lib\\site-packages\\scipy\\fft\\_basic_backend.py:74\u001B[0m, in \u001B[0;36mrfft\u001B[1;34m(x, n, axis, norm, overwrite_x, workers, plan)\u001B[0m\n\u001B[0;32m     72\u001B[0m \u001B[38;5;28;01mdef\u001B[39;00m \u001B[38;5;21mrfft\u001B[39m(x, n\u001B[38;5;241m=\u001B[39m\u001B[38;5;28;01mNone\u001B[39;00m, axis\u001B[38;5;241m=\u001B[39m\u001B[38;5;241m-\u001B[39m\u001B[38;5;241m1\u001B[39m, norm\u001B[38;5;241m=\u001B[39m\u001B[38;5;28;01mNone\u001B[39;00m,\n\u001B[0;32m     73\u001B[0m          overwrite_x\u001B[38;5;241m=\u001B[39m\u001B[38;5;28;01mFalse\u001B[39;00m, workers\u001B[38;5;241m=\u001B[39m\u001B[38;5;28;01mNone\u001B[39;00m, \u001B[38;5;241m*\u001B[39m, plan\u001B[38;5;241m=\u001B[39m\u001B[38;5;28;01mNone\u001B[39;00m):\n\u001B[1;32m---> 74\u001B[0m     \u001B[38;5;28;01mreturn\u001B[39;00m \u001B[43m_execute_1D\u001B[49m\u001B[43m(\u001B[49m\u001B[38;5;124;43m'\u001B[39;49m\u001B[38;5;124;43mrfft\u001B[39;49m\u001B[38;5;124;43m'\u001B[39;49m\u001B[43m,\u001B[49m\u001B[43m \u001B[49m\u001B[43m_pocketfft\u001B[49m\u001B[38;5;241;43m.\u001B[39;49m\u001B[43mrfft\u001B[49m\u001B[43m,\u001B[49m\u001B[43m \u001B[49m\u001B[43mx\u001B[49m\u001B[43m,\u001B[49m\u001B[43m \u001B[49m\u001B[43mn\u001B[49m\u001B[38;5;241;43m=\u001B[39;49m\u001B[43mn\u001B[49m\u001B[43m,\u001B[49m\u001B[43m \u001B[49m\u001B[43maxis\u001B[49m\u001B[38;5;241;43m=\u001B[39;49m\u001B[43maxis\u001B[49m\u001B[43m,\u001B[49m\u001B[43m \u001B[49m\u001B[43mnorm\u001B[49m\u001B[38;5;241;43m=\u001B[39;49m\u001B[43mnorm\u001B[49m\u001B[43m,\u001B[49m\n\u001B[0;32m     75\u001B[0m \u001B[43m                       \u001B[49m\u001B[43moverwrite_x\u001B[49m\u001B[38;5;241;43m=\u001B[39;49m\u001B[43moverwrite_x\u001B[49m\u001B[43m,\u001B[49m\u001B[43m \u001B[49m\u001B[43mworkers\u001B[49m\u001B[38;5;241;43m=\u001B[39;49m\u001B[43mworkers\u001B[49m\u001B[43m,\u001B[49m\u001B[43m \u001B[49m\u001B[43mplan\u001B[49m\u001B[38;5;241;43m=\u001B[39;49m\u001B[43mplan\u001B[49m\u001B[43m)\u001B[49m\n",
      "File \u001B[1;32mE:\\Documents\\Jetbrains\\Pycharm\\mmWaveTest\\venv\\Lib\\site-packages\\scipy\\fft\\_basic_backend.py:29\u001B[0m, in \u001B[0;36m_execute_1D\u001B[1;34m(func_str, pocketfft_func, x, n, axis, norm, overwrite_x, workers, plan)\u001B[0m\n\u001B[0;32m     27\u001B[0m \u001B[38;5;28;01mif\u001B[39;00m is_numpy(xp):\n\u001B[0;32m     28\u001B[0m     x \u001B[38;5;241m=\u001B[39m np\u001B[38;5;241m.\u001B[39masarray(x)\n\u001B[1;32m---> 29\u001B[0m     \u001B[38;5;28;01mreturn\u001B[39;00m \u001B[43mpocketfft_func\u001B[49m\u001B[43m(\u001B[49m\u001B[43mx\u001B[49m\u001B[43m,\u001B[49m\u001B[43m \u001B[49m\u001B[43mn\u001B[49m\u001B[38;5;241;43m=\u001B[39;49m\u001B[43mn\u001B[49m\u001B[43m,\u001B[49m\u001B[43m \u001B[49m\u001B[43maxis\u001B[49m\u001B[38;5;241;43m=\u001B[39;49m\u001B[43maxis\u001B[49m\u001B[43m,\u001B[49m\u001B[43m \u001B[49m\u001B[43mnorm\u001B[49m\u001B[38;5;241;43m=\u001B[39;49m\u001B[43mnorm\u001B[49m\u001B[43m,\u001B[49m\n\u001B[0;32m     30\u001B[0m \u001B[43m                          \u001B[49m\u001B[43moverwrite_x\u001B[49m\u001B[38;5;241;43m=\u001B[39;49m\u001B[43moverwrite_x\u001B[49m\u001B[43m,\u001B[49m\u001B[43m \u001B[49m\u001B[43mworkers\u001B[49m\u001B[38;5;241;43m=\u001B[39;49m\u001B[43mworkers\u001B[49m\u001B[43m,\u001B[49m\u001B[43m \u001B[49m\u001B[43mplan\u001B[49m\u001B[38;5;241;43m=\u001B[39;49m\u001B[43mplan\u001B[49m\u001B[43m)\u001B[49m\n\u001B[0;32m     32\u001B[0m norm \u001B[38;5;241m=\u001B[39m _validate_fft_args(workers, plan, norm)\n\u001B[0;32m     33\u001B[0m \u001B[38;5;28;01mif\u001B[39;00m \u001B[38;5;28mhasattr\u001B[39m(xp, \u001B[38;5;124m'\u001B[39m\u001B[38;5;124mfft\u001B[39m\u001B[38;5;124m'\u001B[39m):\n",
      "File \u001B[1;32mE:\\Documents\\Jetbrains\\Pycharm\\mmWaveTest\\venv\\Lib\\site-packages\\scipy\\fft\\_pocketfft\\basic.py:61\u001B[0m, in \u001B[0;36mr2c\u001B[1;34m(forward, x, n, axis, norm, overwrite_x, workers, plan)\u001B[0m\n\u001B[0;32m     58\u001B[0m     \u001B[38;5;28;01mraise\u001B[39;00m \u001B[38;5;167;01mValueError\u001B[39;00m(\u001B[38;5;124mf\u001B[39m\u001B[38;5;124m\"\u001B[39m\u001B[38;5;124minvalid number of data points (\u001B[39m\u001B[38;5;132;01m{\u001B[39;00mtmp\u001B[38;5;241m.\u001B[39mshape[axis]\u001B[38;5;132;01m}\u001B[39;00m\u001B[38;5;124m) specified\u001B[39m\u001B[38;5;124m\"\u001B[39m)\n\u001B[0;32m     60\u001B[0m \u001B[38;5;66;03m# Note: overwrite_x is not utilised\u001B[39;00m\n\u001B[1;32m---> 61\u001B[0m \u001B[38;5;28;01mreturn\u001B[39;00m \u001B[43mpfft\u001B[49m\u001B[38;5;241;43m.\u001B[39;49m\u001B[43mr2c\u001B[49m\u001B[43m(\u001B[49m\u001B[43mtmp\u001B[49m\u001B[43m,\u001B[49m\u001B[43m \u001B[49m\u001B[43m(\u001B[49m\u001B[43maxis\u001B[49m\u001B[43m,\u001B[49m\u001B[43m)\u001B[49m\u001B[43m,\u001B[49m\u001B[43m \u001B[49m\u001B[43mforward\u001B[49m\u001B[43m,\u001B[49m\u001B[43m \u001B[49m\u001B[43mnorm\u001B[49m\u001B[43m,\u001B[49m\u001B[43m \u001B[49m\u001B[38;5;28;43;01mNone\u001B[39;49;00m\u001B[43m,\u001B[49m\u001B[43m \u001B[49m\u001B[43mworkers\u001B[49m\u001B[43m)\u001B[49m\n",
      "\u001B[1;31mMemoryError\u001B[0m: Unable to allocate 60.1 MiB for an array with shape (256, 30, 513) and data type complex128"
     ]
    }
   ],
   "execution_count": 14
  },
  {
   "metadata": {},
   "cell_type": "code",
   "outputs": [],
   "execution_count": null,
   "source": [
    "# Function to plot 1D FFT amplitude profile for a selected frame\n",
    "def plot_fft_amplitude_profile(frame_number):\n",
    "    if frame_number < 0 or frame_number >= len(radar_data_frames):\n",
    "        print(f\"Invalid frame number. Please select a frame number between 0 and {len(radar_data_frames) - 1}.\")\n",
    "        return\n",
    "    \n",
    "    radar_frame = radar_data_frames[frame_number]\n",
    "    fft_amplitudes = []\n",
    "    for chirp in radar_frame.T:\n",
    "        fft_result = np.fft.fft(chirp, n=adc_samples)\n",
    "        fft_amplitudes.append(np.abs(fft_result[:adc_samples // 2]))\n",
    "    \n",
    "    # Plot the FFT amplitude profile\n",
    "    freq_vector = np.linspace(0, sample_freq / 2, adc_samples // 2)\n",
    "    plt.figure()\n",
    "    plt.plot(freq_vector, np.mean(fft_amplitudes, axis=0))\n",
    "    plt.xlabel('Frequency (Hz)')\n",
    "    plt.ylabel('Amplitude')\n",
    "    plt.title(f'1D FFT Amplitude Profile for Frame {frame_number}')\n",
    "    plt.show()\n",
    "\n",
    "# Example usage: Plot 1D FFT amplitude profile for a selected frame\n",
    "selected_frame = 5  # Change this to select a different frame\n",
    "plot_fft_amplitude_profile(selected_frame)"
   ],
   "id": "15c50024d3a5eabe"
  }
 ],
 "metadata": {
  "kernelspec": {
   "display_name": "Python 3",
   "language": "python",
   "name": "python3"
  },
  "language_info": {
   "codemirror_mode": {
    "name": "ipython",
    "version": 2
   },
   "file_extension": ".py",
   "mimetype": "text/x-python",
   "name": "python",
   "nbconvert_exporter": "python",
   "pygments_lexer": "ipython2",
   "version": "2.7.6"
  }
 },
 "nbformat": 4,
 "nbformat_minor": 5
}
