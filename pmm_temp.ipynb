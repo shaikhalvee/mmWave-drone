{
 "cells": [
  {
   "cell_type": "code",
   "id": "initial_id",
   "metadata": {
    "collapsed": true,
    "ExecuteTime": {
     "end_time": "2024-10-03T17:55:39.081797Z",
     "start_time": "2024-10-03T17:55:39.071691Z"
    }
   },
   "source": [
    "import os\n",
    "\n",
    "data_path = \"data/capture_drone_steady\"\n",
    "\n",
    "if not os.path.exists(data_path):\n",
    "    print(\"file does not exist\")\n",
    "else:\n",
    "    print(\"file exists. path: {}\".format(data_path))"
   ],
   "outputs": [
    {
     "name": "stdout",
     "output_type": "stream",
     "text": [
      "file path: data/capture_drone_steady\n"
     ]
    }
   ],
   "execution_count": 2
  },
  {
   "metadata": {
    "ExecuteTime": {
     "end_time": "2024-10-03T18:33:43.162119Z",
     "start_time": "2024-10-03T18:33:43.142150Z"
    }
   },
   "cell_type": "code",
   "source": [
    "\n",
    "# declaring the variables\n",
    "\n",
    "# Sensor Configuration\n",
    "## Profile config\n",
    "start_freq = 77  # GHz \n",
    "slope = 79  # MHz/us\n",
    "idle_time = 5  # us\n",
    "adc_start_time = 6  # us\n",
    "adc_samples = 256  # Number of samples per chirp\n",
    "sample_freq = 8000  # ksps (8 MSPS)\n",
    "ramp_end_time = 40  # us\n",
    "rx_gain = 48  # dB\n",
    "\n",
    "## Frame config\n",
    "### Chirp config\n",
    "start_chirp_tx = 0\n",
    "end_chirp_tx = 11\n",
    "nchirp_loops = 64\n",
    "nframes_master = 0  # Number of Frames for Master (0 means continuous streaming mode)\n",
    "nframes_slave = 0  # Number of Frames for Slaves (0 means continuous streaming mode)\n",
    "Inter_Frame_Interval = 100  # ms\n",
    "trigger_delay = 0  # us\n",
    "nDummy_chirp = 0\n",
    "trig_list = {1, 2, 2, 2}  # 1: Software trigger, 2: Hardware trigger \n",
    "\n",
    "# Derived config\n",
    "numAdcSamples = adc_samples\n",
    "numRxPerDevice = 4\n",
    "numDevice = numRxPerDevice\n",
    "numChirpsPerFrame = end_chirp_tx - start_chirp_tx + 1\n",
    "numChirpLoops = nchirp_loops\n",
    "numChirpsPerFramePerDevice = numChirpsPerFrame * numChirpLoops\n",
    "totalSamplePerFramePerDevice = numChirpsPerFramePerDevice * numAdcSamples * numRxPerDevice  \n",
    "\n",
    "print(f\"{numAdcSamples}, {numRxPerDevice}, {numChirpsPerFramePerDevice}, {totalSamplePerFramePerDevice}\") # checking the values\n"
   ],
   "id": "ca406fa273ec0dd9",
   "outputs": [
    {
     "name": "stdout",
     "output_type": "stream",
     "text": [
      "256, 4, 768, 786432\n"
     ]
    }
   ],
   "execution_count": 3
  },
  {
   "metadata": {},
   "cell_type": "markdown",
   "source": [
    "## Parsing the ADC data\n",
    "\n",
    "parsing the binary adc data"
   ],
   "id": "1a6ba81db5bd8392"
  },
  {
   "metadata": {},
   "cell_type": "code",
   "outputs": [],
   "execution_count": null,
   "source": [
    "import numpy as np\n",
    "\n",
    "# parsing the binary data\n",
    "def parse_adc_data(file_path, num_frames, num_chirps_per_frame, num_rx, num_samples):\n",
    "    adc_data = np.fromfile(file_path, dtype=np.int16)\n",
    "    \n",
    "    # Each sample consists of I and Q components\n",
    "    adc_data = adc_data.reshape(-1, 2)\n",
    "    adc_data_complex = adc_data[:, 0] + 1j * adc_data[:, 1]\n",
    "    \n",
    "    # Calculate total number of chirps\n",
    "    total_chirps = num_frames * num_chirps_per_frame\n",
    "    \n",
    "    # Reshape the data into [Frames][Chirps][RX Antennas][Samples]\n",
    "    adc_data_complex = adc_data_complex.reshape(num_frames, num_chirps_per_frame, num_rx, num_samples)\n",
    "    return adc_data_complex\n",
    "\n",
    "\n",
    "\n",
    "def calculate_num_frames(file_path, num_chirps_per_frame, num_rx, num_adc_samples):\n",
    "    file_size_bytes = os.path.getsize(file_path)\n",
    "    # Each sample is 2 bytes for I and 2 bytes for Q = 4 bytes per complex sample\n",
    "    bytes_per_sample = 4\n",
    "    samples_per_frame = num_chirps_per_frame * num_rx * num_adc_samples\n",
    "    bytes_per_frame = samples_per_frame * bytes_per_sample\n",
    "    total_frames = file_size_bytes // bytes_per_frame\n",
    "    return total_frames\n",
    "\n",
    "\n",
    "# parsing data for each device\n",
    "\n",
    "devices = ['master', 'slave1', 'slave2', 'slave3']\n",
    "device_data = {}\n",
    "\n",
    "for device in devices:\n",
    "    data_files = [f for f in os.listdir(data_path) if f.startswith(device) and 'data.bin' in f]\n",
    "    data_files.sort()  # Ensure files are in order\n",
    "    adc_data_list = []\n",
    "    for file_name in data_files:\n",
    "        full_file_path = os.path.join(data_path, file_name)\n",
    "        num_frames = calculate_num_frames(file_path=full_file_path, num_chirps_per_frame=numChirpsPerFrame, num_rx=numRxPerDevice, num_samples=numAdcSamples)\n",
    "        adc_data = parse_adc_data(full_file_path, num_frames, num_chirps_per_frame=numChirpsPerFrame, num_rx=numRxPerDevice, num_samples=numAdcSamples)\n",
    "        adc_data_list.append(adc_data)\n",
    "    # Concatenate data from multiple files\n",
    "    device_data[device] = np.concatenate(adc_data_list, axis=0)  # Concatenate along frames\n",
    "\n"
   ],
   "id": "9bc9281dad6b0f13"
  },
  {
   "metadata": {},
   "cell_type": "code",
   "outputs": [],
   "execution_count": null,
   "source": [
    "chirp_tx_mapping = {\n",
    "    0: {'device': 'slave3', 'tx': 'TX2'},\n",
    "    1: {'device': 'slave3', 'tx': 'TX1'},\n",
    "    2: {'device': 'slave3', 'tx': 'TX0'},\n",
    "    3: {'device': 'slave2', 'tx': 'TX2'},\n",
    "    4: {'device': 'slave2', 'tx': 'TX1'},\n",
    "    5: {'device': 'slave2', 'tx': 'TX0'},\n",
    "    6: {'device': 'slave1', 'tx': 'TX2'},\n",
    "    7: {'device': 'slave1', 'tx': 'TX1'},\n",
    "    8: {'device': 'slave1', 'tx': 'TX0'},\n",
    "    9: {'device': 'master', 'tx': 'TX2'},\n",
    "    10: {'device': 'master', 'tx': 'TX1'},\n",
    "    11: {'device': 'master', 'tx': 'TX0'},\n",
    "}\n"
   ],
   "id": "5fc7e6c134b1e347"
  }
 ],
 "metadata": {
  "kernelspec": {
   "display_name": "Python 3",
   "language": "python",
   "name": "python3"
  },
  "language_info": {
   "codemirror_mode": {
    "name": "ipython",
    "version": 2
   },
   "file_extension": ".py",
   "mimetype": "text/x-python",
   "name": "python",
   "nbconvert_exporter": "python",
   "pygments_lexer": "ipython2",
   "version": "2.7.6"
  }
 },
 "nbformat": 4,
 "nbformat_minor": 5
}
