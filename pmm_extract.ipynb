{
 "cells": [
  {
   "cell_type": "code",
   "id": "initial_id",
   "metadata": {
    "collapsed": true,
    "ExecuteTime": {
     "end_time": "2024-10-03T20:02:07.273138Z",
     "start_time": "2024-10-03T20:02:07.267657Z"
    }
   },
   "source": [
    "\n",
    "# declaring the variables\n",
    "\n",
    "# Sensor Configuration\n",
    "## Profile config\n",
    "start_freq = 77  # GHz \n",
    "slope = 79  # MHz/us\n",
    "idle_time = 5  # us\n",
    "adc_start_time = 6  # us\n",
    "adc_samples = 256  # Number of samples per chirp\n",
    "sample_freq = 8000  # ksps (8 MSPS)\n",
    "ramp_end_time = 40  # us\n",
    "rx_gain = 48  # dB\n",
    "\n",
    "## Frame config\n",
    "### Chirp config\n",
    "start_chirp_tx = 0\n",
    "end_chirp_tx = 11\n",
    "nchirp_loops = 64\n",
    "nframes_master = 0  # Number of Frames for Master (0 means continuous streaming mode)\n",
    "nframes_slave = 0  # Number of Frames for Slaves (0 means continuous streaming mode)\n",
    "Inter_Frame_Interval = 100  # ms\n",
    "trigger_delay = 0  # us\n",
    "nDummy_chirp = 0\n",
    "trig_list = {1, 2, 2, 2}  # 1: Software trigger, 2: Hardware trigger \n",
    "\n",
    "# Derived config\n",
    "numAdcSamples = adc_samples\n",
    "numRxPerDevice = 4\n",
    "numDevice = numRxPerDevice\n",
    "numChirpsPerFrame = end_chirp_tx - start_chirp_tx + 1\n",
    "numChirpLoops = nchirp_loops\n",
    "numChirpsPerFramePerDevice = numChirpsPerFrame * numChirpLoops\n",
    "totalSamplePerFramePerDevice = numChirpsPerFramePerDevice * numAdcSamples * numRxPerDevice  \n",
    "\n",
    "print(f\"{numAdcSamples}, {numRxPerDevice}, {numChirpsPerFramePerDevice}, {totalSamplePerFramePerDevice}\") # checking the values\n"
   ],
   "outputs": [
    {
     "name": "stdout",
     "output_type": "stream",
     "text": [
      "256, 4, 768, 786432\n"
     ]
    }
   ],
   "execution_count": 1
  },
  {
   "metadata": {},
   "cell_type": "markdown",
   "source": [
    "## Parsing the ADC data\n",
    "\n",
    "parsing the binary adc data\n"
   ],
   "id": "3c19c47150770d04"
  },
  {
   "metadata": {
    "ExecuteTime": {
     "end_time": "2024-10-03T20:02:11.998618Z",
     "start_time": "2024-10-03T20:02:11.919602Z"
    }
   },
   "cell_type": "code",
   "source": [
    "import numpy as np\n",
    "import os\n",
    "\n",
    "def read_adc_data(file_path, num_adc_samples):\n",
    "    adc_data = np.fromfile(file_path, dtype=np.int16)\n",
    "    # Reshape the data into I and Q components\n",
    "    adc_data = adc_data.reshape(-1, 2)\n",
    "    adc_data_complex = adc_data[:, 0] + 1j * adc_data[:, 1]\n",
    "    return adc_data_complex\n",
    "\n",
    "def calculate_num_frames(file_path, num_chirps_per_frame, num_rx, num_adc_samples):\n",
    "    file_size_bytes = os.path.getsize(file_path)\n",
    "    # Each sample is 2 bytes for I and 2 bytes for Q = 4 bytes per complex sample\n",
    "    bytes_per_sample = 4\n",
    "    samples_per_frame = num_chirps_per_frame * num_rx * num_adc_samples\n",
    "    bytes_per_frame = samples_per_frame * bytes_per_sample\n",
    "    total_frames = file_size_bytes // bytes_per_frame\n",
    "    return total_frames\n",
    "\n",
    "def parse_device_data(device_name, data_directory, num_chirps_per_frame, num_rx, num_adc_samples):\n",
    "    # Get a list of data files for the device\n",
    "    data_files = [f for f in os.listdir(data_directory) if f.startswith(device_name) and '_data.bin' in f]\n",
    "    data_files.sort()  # Ensure files are in order\n",
    "    adc_data_list = []\n",
    "    for file_name in data_files:\n",
    "        file_path = os.path.join(data_directory, file_name)\n",
    "        adc_data_complex = read_adc_data(file_path, num_adc_samples)\n",
    "        num_frames = calculate_num_frames(file_path, num_chirps_per_frame, num_rx, num_adc_samples)\n",
    "        # Reshape the data\n",
    "        adc_data_complex = adc_data_complex.reshape(num_frames, num_chirps_per_frame, num_rx, num_adc_samples)\n",
    "        adc_data_list.append(adc_data_complex)\n",
    "    # Concatenate data from multiple files\n",
    "    device_data = np.concatenate(adc_data_list, axis=0)  # Concatenate along frames\n",
    "    return device_data\n",
    "\n"
   ],
   "id": "a589ab910bf2b14c",
   "outputs": [],
   "execution_count": 2
  },
  {
   "metadata": {
    "ExecuteTime": {
     "end_time": "2024-10-03T20:02:21.150078Z",
     "start_time": "2024-10-03T20:02:15.477417Z"
    }
   },
   "cell_type": "code",
   "source": [
    "data_directory = \"data/capture_drone_steady\"\n",
    "\n",
    "num_chirps_per_frame = 768\n",
    "num_rx = 4\n",
    "num_adc_samples = 256\n",
    "\n",
    "devices = ['master', 'slave1', 'slave2', 'slave3']\n",
    "device_data = {}\n",
    "\n",
    "for device in devices:\n",
    "    print(f\"Parsing data for {device}...\")\n",
    "    device_data[device] = parse_device_data(device, data_directory, num_chirps_per_frame, num_rx, num_adc_samples)\n",
    "\n"
   ],
   "id": "cee4b7e55379794b",
   "outputs": [
    {
     "name": "stdout",
     "output_type": "stream",
     "text": [
      "Parsing data for master...\n"
     ]
    },
    {
     "ename": "MemoryError",
     "evalue": "Unable to allocate 7.99 GiB for an array with shape (536346624,) and data type complex128",
     "output_type": "error",
     "traceback": [
      "\u001B[1;31m---------------------------------------------------------------------------\u001B[0m",
      "\u001B[1;31mMemoryError\u001B[0m                               Traceback (most recent call last)",
      "Cell \u001B[1;32mIn[3], line 12\u001B[0m\n\u001B[0;32m     10\u001B[0m \u001B[38;5;28;01mfor\u001B[39;00m device \u001B[38;5;129;01min\u001B[39;00m devices:\n\u001B[0;32m     11\u001B[0m     \u001B[38;5;28mprint\u001B[39m(\u001B[38;5;124mf\u001B[39m\u001B[38;5;124m\"\u001B[39m\u001B[38;5;124mParsing data for \u001B[39m\u001B[38;5;132;01m{\u001B[39;00mdevice\u001B[38;5;132;01m}\u001B[39;00m\u001B[38;5;124m...\u001B[39m\u001B[38;5;124m\"\u001B[39m)\n\u001B[1;32m---> 12\u001B[0m     device_data[device] \u001B[38;5;241m=\u001B[39m \u001B[43mparse_device_data\u001B[49m\u001B[43m(\u001B[49m\u001B[43mdevice\u001B[49m\u001B[43m,\u001B[49m\u001B[43m \u001B[49m\u001B[43mdata_directory\u001B[49m\u001B[43m,\u001B[49m\u001B[43m \u001B[49m\u001B[43mnum_chirps_per_frame\u001B[49m\u001B[43m,\u001B[49m\u001B[43m \u001B[49m\u001B[43mnum_rx\u001B[49m\u001B[43m,\u001B[49m\u001B[43m \u001B[49m\u001B[43mnum_adc_samples\u001B[49m\u001B[43m)\u001B[49m\n",
      "Cell \u001B[1;32mIn[2], line 27\u001B[0m, in \u001B[0;36mparse_device_data\u001B[1;34m(device_name, data_directory, num_chirps_per_frame, num_rx, num_adc_samples)\u001B[0m\n\u001B[0;32m     25\u001B[0m \u001B[38;5;28;01mfor\u001B[39;00m file_name \u001B[38;5;129;01min\u001B[39;00m data_files:\n\u001B[0;32m     26\u001B[0m     file_path \u001B[38;5;241m=\u001B[39m os\u001B[38;5;241m.\u001B[39mpath\u001B[38;5;241m.\u001B[39mjoin(data_directory, file_name)\n\u001B[1;32m---> 27\u001B[0m     adc_data_complex \u001B[38;5;241m=\u001B[39m \u001B[43mread_adc_data\u001B[49m\u001B[43m(\u001B[49m\u001B[43mfile_path\u001B[49m\u001B[43m,\u001B[49m\u001B[43m \u001B[49m\u001B[43mnum_adc_samples\u001B[49m\u001B[43m)\u001B[49m\n\u001B[0;32m     28\u001B[0m     num_frames \u001B[38;5;241m=\u001B[39m calculate_num_frames(file_path, num_chirps_per_frame, num_rx, num_adc_samples)\n\u001B[0;32m     29\u001B[0m     \u001B[38;5;66;03m# Reshape the data\u001B[39;00m\n",
      "Cell \u001B[1;32mIn[2], line 8\u001B[0m, in \u001B[0;36mread_adc_data\u001B[1;34m(file_path, num_adc_samples)\u001B[0m\n\u001B[0;32m      6\u001B[0m \u001B[38;5;66;03m# Reshape the data into I and Q components\u001B[39;00m\n\u001B[0;32m      7\u001B[0m adc_data \u001B[38;5;241m=\u001B[39m adc_data\u001B[38;5;241m.\u001B[39mreshape(\u001B[38;5;241m-\u001B[39m\u001B[38;5;241m1\u001B[39m, \u001B[38;5;241m2\u001B[39m)\n\u001B[1;32m----> 8\u001B[0m adc_data_complex \u001B[38;5;241m=\u001B[39m \u001B[43madc_data\u001B[49m\u001B[43m[\u001B[49m\u001B[43m:\u001B[49m\u001B[43m,\u001B[49m\u001B[43m \u001B[49m\u001B[38;5;241;43m0\u001B[39;49m\u001B[43m]\u001B[49m\u001B[43m \u001B[49m\u001B[38;5;241;43m+\u001B[39;49m\u001B[43m \u001B[49m\u001B[38;5;241;43m1\u001B[39;49m\u001B[43mj\u001B[49m\u001B[43m \u001B[49m\u001B[38;5;241;43m*\u001B[39;49m\u001B[43m \u001B[49m\u001B[43madc_data\u001B[49m\u001B[43m[\u001B[49m\u001B[43m:\u001B[49m\u001B[43m,\u001B[49m\u001B[43m \u001B[49m\u001B[38;5;241;43m1\u001B[39;49m\u001B[43m]\u001B[49m\n\u001B[0;32m      9\u001B[0m \u001B[38;5;28;01mreturn\u001B[39;00m adc_data_complex\n",
      "\u001B[1;31mMemoryError\u001B[0m: Unable to allocate 7.99 GiB for an array with shape (536346624,) and data type complex128"
     ]
    }
   ],
   "execution_count": 3
  },
  {
   "metadata": {},
   "cell_type": "code",
   "outputs": [],
   "execution_count": null,
   "source": "# Need to add codes for chunking data",
   "id": "50c0cbdc76204872"
  },
  {
   "metadata": {},
   "cell_type": "code",
   "outputs": [],
   "execution_count": null,
   "source": [
    "# Chirp configuration mapping\n",
    "\n",
    "chirp_tx_mapping = {\n",
    "    0: {'device': 'slave3', 'tx': 'TX2'},\n",
    "    1: {'device': 'slave3', 'tx': 'TX1'},\n",
    "    2: {'device': 'slave3', 'tx': 'TX0'},\n",
    "    3: {'device': 'slave2', 'tx': 'TX2'},\n",
    "    4: {'device': 'slave2', 'tx': 'TX1'},\n",
    "    5: {'device': 'slave2', 'tx': 'TX0'},\n",
    "    6: {'device': 'slave1', 'tx': 'TX2'},\n",
    "    7: {'device': 'slave1', 'tx': 'TX1'},\n",
    "    8: {'device': 'slave1', 'tx': 'TX0'},\n",
    "    9: {'device': 'master', 'tx': 'TX2'},\n",
    "    10: {'device': 'master', 'tx': 'TX1'},\n",
    "    11: {'device': 'master', 'tx': 'TX0'},\n",
    "}\n",
    "\n",
    "# virtual antenna array\n",
    "\n",
    "def construct_virtual_array(device_data, num_frames, num_chirps_per_frame, num_rx, num_adc_samples):\n",
    "    num_devices = 4\n",
    "    num_tx_antennas = 3  # Each device has 3 TX antennas\n",
    "    num_virtual_antennas = num_devices * num_tx_antennas * num_rx  # 4 devices * 3 TX * 4 RX = 48\n",
    "\n",
    "    virtual_data = np.zeros((num_frames, num_chirps_per_frame, num_rx, num_adc_samples), dtype=complex)\n",
    "\n",
    "    for chirp_idx in range(num_chirps_per_frame):\n",
    "        mapping = chirp_tx_mapping[chirp_idx % 12]  # There are 12 unique chirps\n",
    "        device = mapping['device']\n",
    "        # Get data for the current chirp from the corresponding device\n",
    "        virtual_data[:, chirp_idx, :, :] = device_data[device][:, chirp_idx, :, :]\n",
    "\n",
    "    return virtual_data\n",
    "\n",
    "num_frames = device_data['master'].shape[0]  # Assuming all devices have the same number of frames\n",
    "\n",
    "virtual_data = construct_virtual_array(device_data, num_frames, num_chirps_per_frame, num_rx, num_adc_samples)\n"
   ],
   "id": "d7b647b8f8409537"
  },
  {
   "metadata": {},
   "cell_type": "code",
   "outputs": [],
   "execution_count": null,
   "source": [
    "# Signal Processing\n",
    "\n",
    "## Range FFT\n",
    "def range_fft(virtual_data, num_adc_samples):\n",
    "    # Apply window function (e.g., Hanning window)\n",
    "    window = np.hanning(num_adc_samples)\n",
    "    virtual_data_windowed = virtual_data * window[np.newaxis, np.newaxis, np.newaxis, :]\n",
    "\n",
    "    # Perform FFT along the samples dimension\n",
    "    range_profiles = np.fft.fft(virtual_data_windowed, n=num_adc_samples, axis=-1)\n",
    "    return range_profiles\n",
    "\n",
    "# range profile\n",
    "range_profiles = range_fft(virtual_data, num_adc_samples)\n",
    "\n",
    "## Doppler FFT\n",
    "def doppler_fft(range_profiles, num_chirps_per_frame):\n",
    "    num_frames, num_chirps, num_rx, num_range_bins = range_profiles.shape\n",
    "    # Reshape to combine frames and chirps for Doppler processing\n",
    "    reshaped_data = range_profiles.reshape(num_frames * num_chirps, num_rx, num_range_bins)\n",
    "\n",
    "    # Apply window function along the chirp dimension\n",
    "    window = np.hanning(num_chirps_per_frame)\n",
    "    window = np.tile(window, num_frames)\n",
    "    window = window[:, np.newaxis, np.newaxis]\n",
    "\n",
    "    reshaped_data_windowed = reshaped_data * window\n",
    "\n",
    "    # Perform FFT along the chirp dimension\n",
    "    doppler_fft_size = num_chirps_per_frame\n",
    "    doppler_spectrum = np.fft.fftshift(np.fft.fft(reshaped_data_windowed, n=doppler_fft_size, axis=0), axes=0)\n",
    "\n",
    "    # Reshape back to original dimensions\n",
    "    doppler_spectrum = doppler_spectrum.reshape(num_frames, num_chirps_per_frame, num_rx, num_range_bins)\n",
    "    return doppler_spectrum\n",
    "\n",
    "# doppler profile\n",
    "doppler_spectrum = doppler_fft(range_profiles, num_chirps_per_frame)\n",
    "\n"
   ],
   "id": "631db614399d94ff"
  },
  {
   "metadata": {},
   "cell_type": "code",
   "outputs": [],
   "execution_count": null,
   "source": [
    "# time for plotting doppler spectrum\n",
    "\n",
    "range_magnitude = np.abs(range_profiles)\n",
    "range_magnitude_mean = np.mean(range_magnitude, axis=(0, 2))  # Average over frames and RX antennas\n",
    "\n",
    "# Sum over chirps\n",
    "range_profile = np.sum(range_magnitude_mean, axis=0)\n",
    "\n",
    "import matplotlib.pyplot as plt\n",
    "\n",
    "plt.figure()\n",
    "plt.plot(range_profile)\n",
    "plt.title('Range Profile')\n",
    "plt.xlabel('Range Bin')\n",
    "plt.ylabel('Amplitude')\n",
    "plt.show()\n",
    "\n",
    "# Manually select the range bin corresponding to the drone\n",
    "selected_range_bin = int(input(\"Enter the index of the range bin corresponding to the drone: \"))\n",
    "\n",
    "# ------------------------------------------------------------------------------------------------------------------------------------------------------------\n",
    "# Generate Frequency Axis\n",
    "\n",
    "# Extract the Doppler spectrum for the selected range bin and average over RX antennas\n",
    "doppler_spectrum_selected = doppler_spectrum[:, :, :, selected_range_bin]\n",
    "doppler_spectrum_mean = np.mean(doppler_spectrum_selected, axis=2)  # Average over RX antennas\n",
    "\n",
    "# Sum over frames\n",
    "doppler_spectrum_sum = np.sum(doppler_spectrum_mean, axis=0)\n"
   ],
   "id": "8110411d897df1a7"
  }
 ],
 "metadata": {
  "kernelspec": {
   "display_name": "Python 3",
   "language": "python",
   "name": "python3"
  },
  "language_info": {
   "codemirror_mode": {
    "name": "ipython",
    "version": 2
   },
   "file_extension": ".py",
   "mimetype": "text/x-python",
   "name": "python",
   "nbconvert_exporter": "python",
   "pygments_lexer": "ipython2",
   "version": "2.7.6"
  }
 },
 "nbformat": 4,
 "nbformat_minor": 5
}
